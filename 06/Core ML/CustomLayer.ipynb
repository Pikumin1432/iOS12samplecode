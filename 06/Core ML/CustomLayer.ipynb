{
 "cells": [
  {
   "cell_type": "code",
   "execution_count": 18,
   "metadata": {},
   "outputs": [],
   "source": [
    "import keras\n",
    "from keras.datasets import mnist\n",
    "from keras.models import Sequential\n",
    "from keras.layers import Dense, Dropout\n",
    "from keras.optimizers import RMSprop\n",
    "from keras.layers import Conv2D, MaxPooling2D\n",
    "from keras.layers import Activation, AveragePooling2D, Conv2D, Flatten\n",
    "from keras.layers import Lambda\n",
    "from keras import backend as K # tensorflow\n",
    "\n",
    "import coremltools\n",
    "from coremltools.proto import NeuralNetwork_pb2\n",
    "\n",
    "import os"
   ]
  },
  {
   "cell_type": "code",
   "execution_count": 19,
   "metadata": {},
   "outputs": [],
   "source": [
    "kears_file = \"./KerasMNIST_customlayer.h5\"\n",
    "coreml_file = './KerasMNIST_customlayer.mlmodel'"
   ]
  },
  {
   "cell_type": "code",
   "execution_count": 20,
   "metadata": {},
   "outputs": [],
   "source": [
    "# Just sigmoid\n",
    "def custom_sigmoid_activation(x):\n",
    "    return K.sigmoid(x)\n",
    "\n",
    "# Just relu\n",
    "def custom_relu_activation(x):\n",
    "    return K.relu(x)"
   ]
  },
  {
   "cell_type": "code",
   "execution_count": 21,
   "metadata": {},
   "outputs": [],
   "source": [
    "def build_and_learn_keras_model():\n",
    "\n",
    "\n",
    "    batch_size = 128\n",
    "    num_classes = 10\n",
    "    epochs = 1\n",
    "\n",
    "    # the data, shuffled and split between train and test sets\n",
    "    (x_train, y_train), (x_test, y_test) = mnist.load_data()\n",
    "\n",
    "    print(x_train.shape)\n",
    "    print(x_train.shape[1:])\n",
    "\n",
    "    img_rows = 28\n",
    "    img_cols = 28\n",
    "\n",
    "    x_train = x_train.reshape(x_train.shape[0], img_rows, img_cols, 1)\n",
    "    x_test = x_test.reshape(x_test.shape[0], img_rows, img_cols, 1)\n",
    "    input_shape = (img_rows, img_cols, 1)\n",
    "\n",
    "    x_train = x_train.astype('float32')\n",
    "    x_test = x_test.astype('float32')\n",
    "\n",
    "    # 入力値の正規化\n",
    "    x_train /= 255\n",
    "    x_test /= 255\n",
    "\n",
    "    # 教師データをクラス分類のデータに変換\n",
    "    y_train = keras.utils.to_categorical(y_train, num_classes)\n",
    "    y_test = keras.utils.to_categorical(y_test, num_classes)\n",
    "\n",
    "    print(x_train.shape[0], 'train samples')\n",
    "    print(x_test.shape[0], 'test samples')\n",
    "\n",
    "    # ネットワーク設計\n",
    "    model = Sequential()\n",
    "    model.add(Conv2D(32, kernel_size=[3, 3], padding='same', input_shape=input_shape))\n",
    "\n",
    "    # custom layer\n",
    "    model.add(Lambda(custom_sigmoid_activation))\n",
    "\n",
    "    model.add(Conv2D(32, kernel_size=[3, 3], padding='same', activation='relu'))\n",
    "    model.add(MaxPooling2D(pool_size=(2, 2)))\n",
    "    model.add(Conv2D(16, kernel_size=[3, 3], padding='same', activation='relu'))\n",
    "    model.add(Flatten())\n",
    "    model.add(Dense(128))\n",
    "\n",
    "    # custom layer\n",
    "    model.add(Lambda(custom_relu_activation))\n",
    "\n",
    "    model.add(Dense(num_classes, activation='softmax'))\n",
    "\n",
    "    # ネットワークの構成を出力する\n",
    "    model.summary()\n",
    "\n",
    "    model.compile(loss='categorical_crossentropy',\n",
    "                  optimizer=RMSprop(),\n",
    "                  metrics=['accuracy'])\n",
    "\n",
    "    history = model.fit(x_train, y_train,\n",
    "                        batch_size=batch_size,\n",
    "                        epochs=epochs,\n",
    "                        verbose=1,\n",
    "                        validation_data=(x_test, y_test))\n",
    "    score = model.evaluate(x_test, y_test, verbose=0)\n",
    "    print('Test loss:', score[0])\n",
    "    print('Test accuracy:', score[1])\n",
    "    \n",
    "    return model"
   ]
  },
  {
   "cell_type": "code",
   "execution_count": 22,
   "metadata": {},
   "outputs": [],
   "source": [
    "if not os.path.exists(kears_file):\n",
    "    keras_model = build_and_learn_keras_model()\n",
    "    keras_model.save(kears_file)"
   ]
  },
  {
   "cell_type": "code",
   "execution_count": 23,
   "metadata": {},
   "outputs": [],
   "source": [
    "def convert_custom_lambda_layer(layer):\n",
    "    \n",
    "    params = NeuralNetwork_pb2.CustomLayerParams()\n",
    "    \n",
    "    if layer.function.__name__ == custom_relu_activation.__name__:\n",
    "        params.className = \"custom_relu_activation\"\n",
    "        params.description = \"RELU\"\n",
    "        return params\n",
    "    elif layer.function.__name__ == custom_sigmoid_activation.__name__:\n",
    "        params.className = \"custom_sigmoid_activation\"\n",
    "        params.description = \"sigmoid\"\n",
    "        return params\n",
    "    else:\n",
    "        return None"
   ]
  },
  {
   "cell_type": "code",
   "execution_count": 24,
   "metadata": {},
   "outputs": [
    {
     "name": "stdout",
     "output_type": "stream",
     "text": [
      "0 : conv2d_4_input, <keras.engine.topology.InputLayer object at 0x13f333b10>\n",
      "1 : conv2d_4, <keras.layers.convolutional.Conv2D object at 0x13f030f50>\n",
      "2 : lambda_3, <keras.layers.core.Lambda object at 0x13fa2a3d0>\n",
      "3 : conv2d_5, <keras.layers.convolutional.Conv2D object at 0x13f0683d0>\n",
      "4 : conv2d_5__activation__, <keras.layers.core.Activation object at 0x13fe21fd0>\n",
      "5 : max_pooling2d_2, <keras.layers.pooling.MaxPooling2D object at 0x13fa3ae50>\n",
      "6 : conv2d_6, <keras.layers.convolutional.Conv2D object at 0x13cc97690>\n",
      "7 : conv2d_6__activation__, <keras.layers.core.Activation object at 0x13fd49ad0>\n",
      "8 : flatten_2, <keras.layers.core.Flatten object at 0x13cd03f50>\n",
      "9 : dense_3, <keras.layers.core.Dense object at 0x13cd03c50>\n",
      "10 : lambda_4, <keras.layers.core.Lambda object at 0x13fa1de10>\n",
      "11 : dense_4, <keras.layers.core.Dense object at 0x13cd22590>\n",
      "12 : dense_4__activation__, <keras.layers.core.Activation object at 0x14035bd10>\n"
     ]
    }
   ],
   "source": [
    "coreml_model = coremltools.converters.keras.convert(\n",
    "    kears_file,\n",
    "    input_names='image',\n",
    "    output_names='digit',\n",
    "    add_custom_layers=True,\n",
    "    custom_conversion_functions={ \"Lambda\": convert_custom_lambda_layer }\n",
    ")\n",
    "\n",
    "coreml_model.author = u'Yuichi Yoshida'\n",
    "coreml_model.license = 'MIT'\n",
    "coreml_model.short_description = u'Custom layerのサンプル'\n",
    "\n",
    "coreml_model.input_description['image'] = u'入力画像'\n",
    "coreml_model.output_description['digit'] = u'推定した数字の確率'\n",
    "\n",
    "coreml_model.save(coreml_file)"
   ]
  }
 ],
 "metadata": {
  "kernelspec": {
   "display_name": "Python 2",
   "language": "python",
   "name": "python2"
  },
  "language_info": {
   "codemirror_mode": {
    "name": "ipython",
    "version": 2
   },
   "file_extension": ".py",
   "mimetype": "text/x-python",
   "name": "python",
   "nbconvert_exporter": "python",
   "pygments_lexer": "ipython2",
   "version": "2.7.13"
  }
 },
 "nbformat": 4,
 "nbformat_minor": 2
}
