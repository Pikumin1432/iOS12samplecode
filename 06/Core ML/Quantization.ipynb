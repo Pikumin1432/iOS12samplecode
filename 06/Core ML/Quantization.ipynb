{
 "cells": [
  {
   "cell_type": "code",
   "execution_count": 1,
   "metadata": {},
   "outputs": [
    {
     "name": "stderr",
     "output_type": "stream",
     "text": [
      "Using TensorFlow backend.\n"
     ]
    }
   ],
   "source": [
    "import keras\n",
    "from keras.datasets import mnist\n",
    "from keras.models import Sequential\n",
    "from keras.layers import Dense, Dropout\n",
    "from keras.optimizers import RMSprop\n",
    "from keras.layers import Conv2D, MaxPooling2D\n",
    "from keras.layers import Activation, AveragePooling2D, Conv2D, Flatten\n",
    "from keras.layers import Lambda\n",
    "from keras import backend as K # tensorflow\n",
    "\n",
    "import coremltools\n",
    "from coremltools.proto import NeuralNetwork_pb2\n",
    "\n",
    "import os"
   ]
  },
  {
   "cell_type": "code",
   "execution_count": 2,
   "metadata": {},
   "outputs": [],
   "source": [
    "kears_file = \"./KerasMNIST_quantization.h5\"\n",
    "coreml_file_template = './KerasMNIST_quantize_{}.mlmodel'"
   ]
  },
  {
   "cell_type": "code",
   "execution_count": 3,
   "metadata": {},
   "outputs": [],
   "source": [
    "def build_and_learn_keras_model():\n",
    "    batch_size = 128\n",
    "    num_classes = 10\n",
    "    epochs = 10\n",
    "\n",
    "    # the data, shuffled and split between train and test sets\n",
    "    (x_train, y_train), (x_test, y_test) = mnist.load_data()\n",
    "\n",
    "    img_rows = 28\n",
    "    img_cols = 28\n",
    "\n",
    "    x_train = x_train.reshape(x_train.shape[0], img_rows, img_cols, 1)\n",
    "    x_test = x_test.reshape(x_test.shape[0], img_rows, img_cols, 1)\n",
    "    input_shape = (img_rows, img_cols, 1)\n",
    "\n",
    "    x_train = x_train.astype('float32')\n",
    "    x_test = x_test.astype('float32')\n",
    "\n",
    "    # 入力値の正規化\n",
    "    x_train /= 255\n",
    "    x_test /= 255\n",
    "\n",
    "    # 教師データをクラス分類のデータに変換\n",
    "    y_train = keras.utils.to_categorical(y_train, num_classes)\n",
    "    y_test = keras.utils.to_categorical(y_test, num_classes)\n",
    "\n",
    "    print(x_train.shape[0], 'train samples')\n",
    "    print(x_test.shape[0], 'test samples')\n",
    "\n",
    "    # ネットワーク設計\n",
    "    model = Sequential()\n",
    "    model.add(Conv2D(32, kernel_size=[3, 3], padding='same',input_shape=input_shape))\n",
    "    model.add(Activation('relu'))\n",
    "    model.add(Conv2D(32, kernel_size=[3, 3], padding='same', activation='relu'))\n",
    "    model.add(MaxPooling2D(pool_size=(2, 2)))\n",
    "    model.add(Conv2D(16, kernel_size=[3, 3], padding='same', activation='relu'))\n",
    "    model.add(Flatten())\n",
    "    model.add(Dense(128))\n",
    "    model.add(Activation('relu'))\n",
    "    model.add(Dense(num_classes, activation='softmax'))\n",
    "\n",
    "    # ネットワークの構成を出力する\n",
    "    model.summary()\n",
    "\n",
    "    model.compile(loss='categorical_crossentropy',\n",
    "                  optimizer=RMSprop(),\n",
    "                  metrics=['accuracy'])\n",
    "\n",
    "    history = model.fit(x_train, y_train,\n",
    "                        batch_size=batch_size,\n",
    "                        epochs=epochs,\n",
    "                        verbose=1,\n",
    "                        validation_data=(x_test, y_test))\n",
    "    score = model.evaluate(x_test, y_test, verbose=0)\n",
    "    print('Test loss:', score[0])\n",
    "    print('Test accuracy:', score[1])\n",
    "    \n",
    "    return model"
   ]
  },
  {
   "cell_type": "code",
   "execution_count": 4,
   "metadata": {},
   "outputs": [],
   "source": [
    "if not os.path.exists(kears_file):\n",
    "    keras_model = build_and_learn_keras_model()\n",
    "    keras_model.save(kears_file)"
   ]
  },
  {
   "cell_type": "code",
   "execution_count": 5,
   "metadata": {},
   "outputs": [
    {
     "name": "stdout",
     "output_type": "stream",
     "text": [
      "0 : conv2d_1_input, <keras.engine.topology.InputLayer object at 0x148232e90>\n",
      "1 : conv2d_1, <keras.layers.convolutional.Conv2D object at 0x148232ed0>\n",
      "2 : activation_1, <keras.layers.core.Activation object at 0x14823d050>\n",
      "3 : conv2d_2, <keras.layers.convolutional.Conv2D object at 0x14823d850>\n",
      "4 : conv2d_2__activation__, <keras.layers.core.Activation object at 0x17d2a3ed0>\n",
      "5 : max_pooling2d_1, <keras.layers.pooling.MaxPooling2D object at 0x14823d0d0>\n",
      "6 : conv2d_3, <keras.layers.convolutional.Conv2D object at 0x14827f550>\n",
      "7 : conv2d_3__activation__, <keras.layers.core.Activation object at 0x17d4b38d0>\n",
      "8 : flatten_1, <keras.layers.core.Flatten object at 0x148293f50>\n",
      "9 : dense_1, <keras.layers.core.Dense object at 0x1482ac4d0>\n",
      "10 : activation_2, <keras.layers.core.Activation object at 0x1482da2d0>\n",
      "11 : dense_2, <keras.layers.core.Dense object at 0x1482dadd0>\n",
      "12 : dense_2__activation__, <keras.layers.core.Activation object at 0x1484f5910>\n"
     ]
    }
   ],
   "source": [
    "coreml_model = coremltools.converters.keras.convert(kears_file, input_names='image', output_names='digit')\n",
    "\n",
    "coreml_model.author = u'Yuichi Yoshida'\n",
    "coreml_model.license = 'MIT'\n",
    "coreml_model.short_description = u'Quantization source'\n",
    "coreml_model.input_description['image'] = u'入力画像'\n",
    "coreml_model.output_description['digit'] = u'推定した数字の確率'"
   ]
  },
  {
   "cell_type": "code",
   "execution_count": 6,
   "metadata": {},
   "outputs": [
    {
     "name": "stdout",
     "output_type": "stream",
     "text": [
      "Quantizing using linear quantization\n",
      "Optimizing Neural Network before Quantization:\n",
      "Finished optimizing network. Quantizing neural network..\n",
      "Quantizing layer conv2d_1\n",
      "Quantizing layer activation_1\n",
      "Quantizing layer conv2d_2\n",
      "Quantizing layer conv2d_2__activation__\n",
      "Quantizing layer conv2d_3\n",
      "Quantizing layer conv2d_3__activation__\n",
      "Quantizing layer dense_1\n",
      "Quantizing layer activation_2\n",
      "Quantizing layer dense_2\n",
      "WARNING! Unable to return a quantized MLModel instance since OS != macOS 10.14 or later\n",
      "Returning quantized model specification instead\n",
      "./KerasMNIST_quantize_linear.mlmodel is not saved, macOS 10.13 or earliear is needed.\n",
      "Quantizing using kmeans quantization\n",
      "Optimizing Neural Network before Quantization:\n",
      "Finished optimizing network. Quantizing neural network..\n",
      "Quantizing layer conv2d_1\n",
      "Quantizing layer activation_1\n",
      "Quantizing layer conv2d_2\n",
      "Quantizing layer conv2d_2__activation__\n",
      "Quantizing layer conv2d_3\n",
      "Quantizing layer conv2d_3__activation__\n",
      "Quantizing layer dense_1\n",
      "Quantizing layer activation_2\n",
      "Quantizing layer dense_2\n",
      "WARNING! Unable to return a quantized MLModel instance since OS != macOS 10.14 or later\n",
      "Returning quantized model specification instead\n",
      "./KerasMNIST_quantize_kmeans.mlmodel is not saved, macOS 10.13 or earliear is needed.\n",
      "Quantizing using linear_lut quantization\n",
      "Optimizing Neural Network before Quantization:\n",
      "Finished optimizing network. Quantizing neural network..\n",
      "Quantizing layer conv2d_1\n",
      "Quantizing layer activation_1\n",
      "Quantizing layer conv2d_2\n",
      "Quantizing layer conv2d_2__activation__\n",
      "Quantizing layer conv2d_3\n",
      "Quantizing layer conv2d_3__activation__\n",
      "Quantizing layer dense_1\n",
      "Quantizing layer activation_2\n",
      "Quantizing layer dense_2\n",
      "WARNING! Unable to return a quantized MLModel instance since OS != macOS 10.14 or later\n",
      "Returning quantized model specification instead\n",
      "./KerasMNIST_quantize_linear_lut.mlmodel is not saved, macOS 10.13 or earliear is needed.\n"
     ]
    }
   ],
   "source": [
    "for name in [\"linear\", \"kmeans\", \"linear_lut\"]:\n",
    "    quantizedModel = coremltools.models.neural_network.quantization_utils.quantize_weights(coreml_model, 8, name)\n",
    "    \n",
    "    coreml_file = coreml_file_template.format(name)\n",
    "    \n",
    "    # on macOS10.13 or earlier, a MLModel instance can not be returned.\n",
    "    if type(quantizedModel) is coremltools.models.MLModel:\n",
    "        coreml_model.author = u'Yuichi Yoshida'\n",
    "        coreml_model.license = 'MIT'\n",
    "        coreml_model.short_description = u'Quantization - by %s' % name\n",
    "        coreml_model.input_description['image'] = u'入力画像'\n",
    "        coreml_model.output_description['digit'] = u'推定した数字の確率'\n",
    "        quantizedModel.save(coreml_file)\n",
    "    else:\n",
    "        print('%s is not saved, macOS 10.13 or earliear is needed.' % coreml_file)"
   ]
  }
 ],
 "metadata": {
  "kernelspec": {
   "display_name": "Python 2",
   "language": "python",
   "name": "python2"
  },
  "language_info": {
   "codemirror_mode": {
    "name": "ipython",
    "version": 2
   },
   "file_extension": ".py",
   "mimetype": "text/x-python",
   "name": "python",
   "nbconvert_exporter": "python",
   "pygments_lexer": "ipython2",
   "version": "2.7.14"
  }
 },
 "nbformat": 4,
 "nbformat_minor": 2
}
